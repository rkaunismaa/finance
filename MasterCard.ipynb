{
 "cells": [
  {
   "cell_type": "code",
   "execution_count": 1,
   "id": "acb2ab4f-51dc-4cfa-903d-ee0b0c350d60",
   "metadata": {},
   "outputs": [],
   "source": [
    "import numpy as np\n",
    "import pandas as pd"
   ]
  },
  {
   "cell_type": "code",
   "execution_count": 2,
   "id": "70baed18-27b5-494f-a698-1caac13078a5",
   "metadata": {},
   "outputs": [],
   "source": [
    "# rob-p5k\n",
    "rootFolder = '~/Documents/Finance/'"
   ]
  },
  {
   "cell_type": "code",
   "execution_count": 3,
   "id": "9fce2461",
   "metadata": {},
   "outputs": [],
   "source": [
    "# KAUWITB\n",
    "rootFolder = '~/Data/Finance/'"
   ]
  },
  {
   "cell_type": "code",
   "execution_count": 4,
   "id": "c0cc5f4f-9e49-4aad-a7be-5bfd5c62aefb",
   "metadata": {},
   "outputs": [],
   "source": [
    "# always target the newest export\n",
    "Csv = 'SIMPLII_2023_01_10'"
   ]
  },
  {
   "cell_type": "code",
   "execution_count": 5,
   "id": "f1e00fe7-c4ec-4022-a51e-7f72270e7240",
   "metadata": {},
   "outputs": [],
   "source": [
    "simpliiDf = pd.read_csv(rootFolder + 'simplii/' + Csv + '.csv', \n",
    "                       names = ['Date','Transaction_Details','Funds_Out','Funds_In'],\n",
    "                       header=0,\n",
    "                       dtype = {'Date':str, 'Transaction_Details':str, 'Funds_Out':np.double, 'Funds_In':np.double },\n",
    "                       parse_dates=['Date']\n",
    "                       )\n",
    "\n",
    "simpliiDf['Funds_Out'] = simpliiDf['Funds_Out'].fillna(0)\n",
    "simpliiDf['Funds_In'] = simpliiDf['Funds_In'].fillna(0)\n"
   ]
  },
  {
   "cell_type": "markdown",
   "id": "1c4716b8-8693-4f62-9cdf-e9ad1672edf5",
   "metadata": {},
   "source": [
    "Grab all the transactions from the money manager spreadsheet."
   ]
  },
  {
   "cell_type": "code",
   "execution_count": 6,
   "id": "418b8f4e-b31d-4a63-be7e-b057e17caa8c",
   "metadata": {},
   "outputs": [],
   "source": [
    "transactionsDf = pd.read_excel(rootFolder + 'money-manager-2 (2021).xlsx', \n",
    "                               sheet_name='Transactions', \n",
    "                               header=3)"
   ]
  },
  {
   "cell_type": "code",
   "execution_count": 7,
   "id": "b7feacfc",
   "metadata": {},
   "outputs": [],
   "source": [
    "# transaction Column names we want to generate\n",
    "transactionColumns = ['Account', 'Date', 'Num', 'Payee', 'Memo', 'Tag', 'Category', 'Clr', 'PAYMENT', 'DEPOSIT']"
   ]
  },
  {
   "attachments": {},
   "cell_type": "markdown",
   "id": "c1a828d0-7ef4-4b8a-8481-0ae1d26dd42f",
   "metadata": {},
   "source": [
    "Create a dataframe that maps Payee to Category and then save it to a csv file."
   ]
  },
  {
   "cell_type": "code",
   "execution_count": 8,
   "id": "c3366aa8-82c6-4808-9088-ef3211e22e42",
   "metadata": {},
   "outputs": [],
   "source": [
    "# Grab just the Payee and Category columns\n",
    "pcDf = transactionsDf[['Payee','Category']]"
   ]
  },
  {
   "cell_type": "code",
   "execution_count": 9,
   "id": "c7945d71",
   "metadata": {},
   "outputs": [],
   "source": [
    "# Some of these have leading spaces, so strip them out\n",
    "pcDf = pcDf.applymap(lambda x: x.strip() if isinstance(x, str) else x)"
   ]
  },
  {
   "cell_type": "code",
   "execution_count": 10,
   "id": "8bf60eee",
   "metadata": {},
   "outputs": [],
   "source": [
    "# Add a Count column set to 1\n",
    "pcDf['Count'] = 1"
   ]
  },
  {
   "cell_type": "code",
   "execution_count": 11,
   "id": "644306d8",
   "metadata": {},
   "outputs": [],
   "source": [
    "# Group by Payee and Category to get the count\n",
    "pcDf = pcDf.groupby(['Payee','Category'])['Count'].count().reset_index()"
   ]
  },
  {
   "cell_type": "code",
   "execution_count": 12,
   "id": "64746a72",
   "metadata": {},
   "outputs": [],
   "source": [
    "# only keep those records with a count of 2 or higher\n",
    "pcDf = pcDf[(pcDf.Count > 1)]"
   ]
  },
  {
   "cell_type": "code",
   "execution_count": 13,
   "id": "370b395a",
   "metadata": {},
   "outputs": [],
   "source": [
    "# Sort by Payee then Category\n",
    "pcDf = pcDf.sort_values(by=['Payee', 'Category'], ascending=(True, True))"
   ]
  },
  {
   "cell_type": "code",
   "execution_count": 14,
   "id": "f64894ec",
   "metadata": {},
   "outputs": [],
   "source": [
    "# Save this to a csv file\n",
    "pcDf.to_csv(rootFolder + 'PayeeCategory.csv')"
   ]
  },
  {
   "attachments": {},
   "cell_type": "markdown",
   "id": "dae8117e",
   "metadata": {},
   "source": [
    "Merge simpliiDf with pcDf and create the dataframe you wish to append to the transactions tab."
   ]
  },
  {
   "cell_type": "code",
   "execution_count": 15,
   "id": "c6f94c20",
   "metadata": {},
   "outputs": [],
   "source": [
    "# pd.merge(df1,df2, left_on='Courses', right_on='Courses', how='outer')\n",
    "mergeDf = pd.merge(simpliiDf, pcDf, left_on='Transaction_Details', right_on='Payee', how='left')"
   ]
  },
  {
   "cell_type": "code",
   "execution_count": 16,
   "id": "84068abe",
   "metadata": {},
   "outputs": [],
   "source": [
    "# add missing columns\n",
    "mergeDf['Account'] = 'Simplii Debit Card'\n",
    "mergeDf['Num'] = ''\n",
    "mergeDf['Memo'] = Csv + '.csv'\n",
    "mergeDf['Tag'] = mergeDf.index + 1\n",
    "mergeDf['Clr'] = ''\n",
    "mergeDf['PAYMENT'] = mergeDf['Funds_Out']\n",
    "mergeDf['DEPOSIT'] = mergeDf['Funds_In']"
   ]
  },
  {
   "cell_type": "code",
   "execution_count": 17,
   "id": "0143bc08",
   "metadata": {},
   "outputs": [],
   "source": [
    "importDf = mergeDf[['Account',\n",
    " 'Date',\n",
    " 'Num',\n",
    " 'Transaction_Details',\n",
    " 'Memo',\n",
    " 'Tag',\n",
    " 'Category',\n",
    " 'Clr',\n",
    " 'PAYMENT',\n",
    " 'DEPOSIT']]"
   ]
  },
  {
   "cell_type": "code",
   "execution_count": 18,
   "id": "4350b854",
   "metadata": {},
   "outputs": [],
   "source": [
    "simpliiImportDf = importDf.rename(columns = {'Transaction_Details':'Payee'})"
   ]
  },
  {
   "cell_type": "code",
   "execution_count": 19,
   "id": "a68cc578",
   "metadata": {},
   "outputs": [],
   "source": [
    "# drop some rows we will not need on the import\n",
    "# dataframe.drop(dataframe[dataframe['cost'] > 300].index)\n",
    "simpliiImportDf.drop(simpliiImportDf[simpliiImportDf['Payee'].str.strip() == 'TRANSFER IN'].index, inplace=True)\n",
    "simpliiImportDf.drop(simpliiImportDf[simpliiImportDf['Payee'].str.strip() == 'INTERNET BILL PAYMENT MASTERCARD PC FINANCIAL'].index, inplace=True)"
   ]
  },
  {
   "cell_type": "code",
   "execution_count": 20,
   "id": "7de171e0",
   "metadata": {},
   "outputs": [],
   "source": [
    "# also drop bogus Canada Pension Plan records\n",
    "simpliiImportDf.drop(simpliiImportDf[simpliiImportDf['Category'].str.strip() == 'Canada Pension Plan'].index, inplace=True)"
   ]
  },
  {
   "cell_type": "code",
   "execution_count": 21,
   "id": "2ebe0c19",
   "metadata": {},
   "outputs": [],
   "source": [
    "simpliiImportDf['Category'] = simpliiImportDf['Category'].fillna('')"
   ]
  },
  {
   "cell_type": "code",
   "execution_count": 22,
   "id": "c0b2b901",
   "metadata": {},
   "outputs": [],
   "source": [
    "# Save this to a csv file\n",
    "simpliiImportDf.to_csv(rootFolder + Csv + '_4Import.csv')"
   ]
  }
 ],
 "metadata": {
  "kernelspec": {
   "display_name": "finance",
   "language": "python",
   "name": "python3"
  },
  "language_info": {
   "codemirror_mode": {
    "name": "ipython",
    "version": 3
   },
   "file_extension": ".py",
   "mimetype": "text/x-python",
   "name": "python",
   "nbconvert_exporter": "python",
   "pygments_lexer": "ipython3",
   "version": "3.9.15"
  },
  "vscode": {
   "interpreter": {
    "hash": "8f7c8ecbc7e34cbb6c7c9d013752ebac13f10ea0a22542af22086ff4db24eb57"
   }
  }
 },
 "nbformat": 4,
 "nbformat_minor": 5
}
