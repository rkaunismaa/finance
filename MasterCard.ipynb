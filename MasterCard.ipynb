{
 "cells": [
  {
   "cell_type": "code",
   "execution_count": 1,
   "id": "acb2ab4f-51dc-4cfa-903d-ee0b0c350d60",
   "metadata": {},
   "outputs": [],
   "source": [
    "import numpy as np\n",
    "import pandas as pd"
   ]
  },
  {
   "cell_type": "code",
   "execution_count": 2,
   "id": "70baed18-27b5-494f-a698-1caac13078a5",
   "metadata": {},
   "outputs": [],
   "source": [
    "# rob-p5k\n",
    "rootFolder = '~/Documents/Finance/'"
   ]
  },
  {
   "cell_type": "code",
   "execution_count": 3,
   "id": "9fce2461",
   "metadata": {},
   "outputs": [],
   "source": [
    "# KAUWITB\n",
    "rootFolder = '~/Data/Finance/'"
   ]
  },
  {
   "cell_type": "code",
   "execution_count": 4,
   "id": "c0cc5f4f-9e49-4aad-a7be-5bfd5c62aefb",
   "metadata": {},
   "outputs": [],
   "source": [
    "# always target the newest export\n",
    "Csv = '2023-01-10-PCFinancialMastercard_report'"
   ]
  },
  {
   "cell_type": "code",
   "execution_count": 5,
   "id": "0adf6400",
   "metadata": {},
   "outputs": [],
   "source": [
    "masterCardDf = pd.read_csv(rootFolder + 'PC_Financial_MasterCard/' + Csv + '.csv', \n",
    "                       names = ['Description', 'Type', 'Card_Holder_Name', 'Date', 'Time', 'Amount'],\n",
    "                       header=0,\n",
    "                       dtype = {'Description':str, 'Type':str, 'Card_Holder_Name':str, 'Date':str, 'Time':str, 'Amount':np.double},\n",
    "                       parse_dates=['Date']\n",
    "                       )"
   ]
  },
  {
   "cell_type": "code",
   "execution_count": 6,
   "id": "6f553df4",
   "metadata": {},
   "outputs": [],
   "source": [
    "masterCardDf['Amount'] = masterCardDf['Amount'] * -1"
   ]
  },
  {
   "cell_type": "code",
   "execution_count": 7,
   "id": "5669348f",
   "metadata": {},
   "outputs": [],
   "source": [
    "# drop all 'Payment CIBC' rows ...\n",
    "masterCardDf.drop(masterCardDf[masterCardDf['Description'].str.strip() == 'Payment CIBC'].index, inplace=True)"
   ]
  },
  {
   "cell_type": "code",
   "execution_count": 8,
   "id": "f0f99432",
   "metadata": {},
   "outputs": [],
   "source": [
    "pcDf = pd.read_csv(rootFolder + 'PayeeCategory.csv')"
   ]
  },
  {
   "attachments": {},
   "cell_type": "markdown",
   "id": "dae8117e",
   "metadata": {},
   "source": [
    "Merge masterCardDf with pcDf and create the dataframe you wish to append to the transactions tab."
   ]
  },
  {
   "cell_type": "code",
   "execution_count": 9,
   "id": "c6f94c20",
   "metadata": {},
   "outputs": [],
   "source": [
    "mergeDf = pd.merge(masterCardDf, pcDf, left_on='Description', right_on='Payee', how='left')"
   ]
  },
  {
   "cell_type": "code",
   "execution_count": 10,
   "id": "84068abe",
   "metadata": {},
   "outputs": [],
   "source": [
    "# add missing columns\n",
    "mergeDf['Account'] = 'PC Mastercard'\n",
    "mergeDf['Num'] = ''\n",
    "mergeDf['Memo'] = Csv + '.csv'\n",
    "mergeDf['Tag'] = mergeDf.index + 1\n",
    "mergeDf['Clr'] = ''\n",
    "mergeDf['PAYMENT'] = mergeDf['Amount']\n"
   ]
  },
  {
   "cell_type": "code",
   "execution_count": 11,
   "id": "0143bc08",
   "metadata": {},
   "outputs": [],
   "source": [
    "masterCardImportDf = mergeDf[['Account',\n",
    " 'Date',\n",
    " 'Num',\n",
    " 'Description',\n",
    " 'Memo',\n",
    " 'Tag',\n",
    " 'Category',\n",
    " 'Clr',\n",
    " 'PAYMENT']]"
   ]
  },
  {
   "cell_type": "code",
   "execution_count": 12,
   "id": "4350b854",
   "metadata": {},
   "outputs": [],
   "source": [
    "masterCardImportDf = masterCardImportDf.rename(columns = {'Description':'Payee'})"
   ]
  },
  {
   "cell_type": "code",
   "execution_count": 13,
   "id": "09b43057",
   "metadata": {},
   "outputs": [],
   "source": [
    "masterCardImportDf['Category'] = masterCardImportDf['Category'].fillna('')"
   ]
  },
  {
   "cell_type": "code",
   "execution_count": 14,
   "id": "c0b2b901",
   "metadata": {},
   "outputs": [],
   "source": [
    "# Save this to a csv file\n",
    "masterCardImportDf.to_csv(rootFolder + Csv + '_4Import.csv', index=False)"
   ]
  }
 ],
 "metadata": {
  "kernelspec": {
   "display_name": "finance",
   "language": "python",
   "name": "python3"
  },
  "language_info": {
   "codemirror_mode": {
    "name": "ipython",
    "version": 3
   },
   "file_extension": ".py",
   "mimetype": "text/x-python",
   "name": "python",
   "nbconvert_exporter": "python",
   "pygments_lexer": "ipython3",
   "version": "3.9.15"
  },
  "vscode": {
   "interpreter": {
    "hash": "8f7c8ecbc7e34cbb6c7c9d013752ebac13f10ea0a22542af22086ff4db24eb57"
   }
  }
 },
 "nbformat": 4,
 "nbformat_minor": 5
}
