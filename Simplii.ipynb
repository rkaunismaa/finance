{
 "cells": [
  {
   "cell_type": "code",
   "execution_count": null,
   "id": "acb2ab4f-51dc-4cfa-903d-ee0b0c350d60",
   "metadata": {},
   "outputs": [],
   "source": [
    "import numpy as np\n",
    "import pandas as pd"
   ]
  },
  {
   "cell_type": "code",
   "execution_count": null,
   "id": "70baed18-27b5-494f-a698-1caac13078a5",
   "metadata": {},
   "outputs": [],
   "source": [
    "dataFolder = 'simplii/'\n",
    "\n",
    "# rob-p5k\n",
    "dataFolder = '~/Documents/Finance/'"
   ]
  },
  {
   "cell_type": "code",
   "execution_count": null,
   "id": "c0cc5f4f-9e49-4aad-a7be-5bfd5c62aefb",
   "metadata": {},
   "outputs": [],
   "source": [
    "rootCsv = 'simplii/2022-02-20-SIMPLII.csv'"
   ]
  },
  {
   "cell_type": "code",
   "execution_count": null,
   "id": "40124315-7b16-42a8-a13d-6f64087f0aa0",
   "metadata": {},
   "outputs": [],
   "source": [
    "sourceFile = dataFolder + rootCsv"
   ]
  },
  {
   "cell_type": "code",
   "execution_count": null,
   "id": "f1e00fe7-c4ec-4022-a51e-7f72270e7240",
   "metadata": {},
   "outputs": [],
   "source": [
    "sourceDf = pd.read_csv(sourceFile, \n",
    "                       names = ['Date','Transaction_Details','Funds_Out','Funds_In'],\n",
    "                       header=0,\n",
    "                       dtype = {'Date':str, 'Transaction_Details':str, 'Funds_Out':np.double, 'Funds_In':np.double },\n",
    "                       parse_dates=['Date']\n",
    "                       )\n",
    "\n",
    "sourceDf['Funds_Out'] = sourceDf['Funds_Out'].fillna(0)\n",
    "sourceDf['Funds_In'] = sourceDf['Funds_In'].fillna(0)\n",
    "\n",
    "sourceDf.info()"
   ]
  },
  {
   "cell_type": "markdown",
   "id": "1c4716b8-8693-4f62-9cdf-e9ad1672edf5",
   "metadata": {},
   "source": [
    "Grab all the transactions from the money manager spreadsheet."
   ]
  },
  {
   "cell_type": "code",
   "execution_count": null,
   "id": "418b8f4e-b31d-4a63-be7e-b057e17caa8c",
   "metadata": {},
   "outputs": [],
   "source": [
    "transactionsDf = pd.read_excel(dataFolder + 'money-manager-2 (2021).xlsx', \n",
    "                               sheet_name='Transactions', \n",
    "                               header=3)"
   ]
  },
  {
   "cell_type": "code",
   "execution_count": null,
   "id": "4c1ea602-3186-4ef7-8c8e-240dbcca3fc5",
   "metadata": {},
   "outputs": [],
   "source": [
    "transactionsDf.head()"
   ]
  },
  {
   "cell_type": "markdown",
   "id": "c1a828d0-7ef4-4b8a-8481-0ae1d26dd42f",
   "metadata": {},
   "source": [
    "Generate a list of all distinct Payee/Category records with their count."
   ]
  },
  {
   "cell_type": "code",
   "execution_count": null,
   "id": "c3366aa8-82c6-4808-9088-ef3211e22e42",
   "metadata": {},
   "outputs": [],
   "source": [
    "pcDF = transactionsDf[['Payee','Category']]\n",
    "pcDF.head(16)"
   ]
  },
  {
   "cell_type": "code",
   "execution_count": null,
   "id": "18412320-c40c-44c6-8388-7823b5185bd0",
   "metadata": {},
   "outputs": [],
   "source": [
    "pcDF = pcDF.sort_values(by=['Payee','Category'],\n",
    "                 ascending=[True,False]\n",
    "                )\n",
    "pcDF.head(16)"
   ]
  },
  {
   "cell_type": "code",
   "execution_count": null,
   "id": "30e7c36b-b57c-40b2-a0fc-56b606787ab3",
   "metadata": {},
   "outputs": [],
   "source": [
    "pcDf2 = pcDF.drop_duplicates()\n",
    "pcDf2.sort_values(by=['Payee','Category'],\n",
    "                 ascending=[True,True]\n",
    "                )"
   ]
  },
  {
   "cell_type": "code",
   "execution_count": null,
   "id": "4fc574d7-8066-44e2-90a5-38a03fbd7026",
   "metadata": {},
   "outputs": [],
   "source": [
    "pcDF.head(16)"
   ]
  },
  {
   "cell_type": "code",
   "execution_count": null,
   "id": "91ff015b-2b5e-4c04-b8c8-afccf15bc248",
   "metadata": {},
   "outputs": [],
   "source": []
  }
 ],
 "metadata": {
  "kernelspec": {
   "display_name": "finance",
   "language": "python",
   "name": "python3"
  },
  "language_info": {
   "codemirror_mode": {
    "name": "ipython",
    "version": 3
   },
   "file_extension": ".py",
   "mimetype": "text/x-python",
   "name": "python",
   "nbconvert_exporter": "python",
   "pygments_lexer": "ipython3",
   "version": "3.9.15"
  },
  "vscode": {
   "interpreter": {
    "hash": "8f7c8ecbc7e34cbb6c7c9d013752ebac13f10ea0a22542af22086ff4db24eb57"
   }
  }
 },
 "nbformat": 4,
 "nbformat_minor": 5
}
